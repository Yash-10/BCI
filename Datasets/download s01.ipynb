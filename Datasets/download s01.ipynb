{
  "nbformat": 4,
  "nbformat_minor": 0,
  "metadata": {
    "colab": {
      "name": "download s01 data",
      "provenance": [],
      "toc_visible": true
    },
    "kernelspec": {
      "name": "python3",
      "display_name": "Python 3"
    }
  },
  "cells": [
    {
      "cell_type": "code",
      "metadata": {
        "id": "m6bwsXoozK8c",
        "colab_type": "code",
        "colab": {}
      },
      "source": [
        "# the data is downloaded from the original source, ie, \n",
        "# http://gigadb.org/dataset/view/id/100295 (scroll down to Files tab, then click on '(FTP-Site)')\n",
        "\n",
        "# we use wget library to download from the ftp server\n",
        "!pip install wget\n",
        "import wget\n",
        "# we're downloading only subject_01 data for now\n",
        "url = 'ftp://parrot.genomics.cn/gigadb/pub/10.5524/100001_101000/100295/mat_data/s01.mat'\n",
        "wget.download(url)"
      ],
      "execution_count": null,
      "outputs": []
    },
    {
      "cell_type": "code",
      "metadata": {
        "id": "yv3hIh37D58v",
        "colab_type": "code",
        "colab": {
          "base_uri": "https://localhost:8080/",
          "height": 51
        },
        "outputId": "9c3ef31a-3362-482b-c06a-9cf7042850b9"
      },
      "source": [
        "import scipy.io\n",
        "subject = scipy.io.loadmat('/content/s01.mat')\n",
        "\n",
        "# how subject.mat files are structured is desccribed here: \n",
        "# https://academic.oup.com/gigascience/article/6/7/gix034/3796323\n",
        "left = subject['eeg']['imagery_left'][0][0][:64]\n",
        "right = subject['eeg']['imagery_right'][0][0][:64]\n",
        "event_markers = subject['eeg']['imagery_event'][0][0][0]\n",
        "\n",
        "# print(left.shape, event_markers.shape) # (64, 358400) (358400,)\n",
        "\n",
        "import pandas as pd\n",
        "import numpy as np\n",
        "\n",
        "df_left = pd.DataFrame(left).T.rename(columns = lambda x: 'left'+str(x))\n",
        "df_right = pd.DataFrame(right).T.rename(columns = lambda x: 'right'+str(x))\n",
        "markers = pd.Series(event_markers)\n",
        "df = df_left.join(df_right)\n",
        "df['mark'] = markers\n",
        "\n",
        "ind = list(df[df['mark'] == 1].index)\n",
        "ind = ind + [358399]\n",
        "intervals = list(zip(ind[:-1], ind[1:]))\n",
        "\n",
        "dfset_left = []\n",
        "dfset_right = []\n",
        "for start, end in intervals[:-1]:\n",
        "    dfset_left.append(df.loc[start:end-1, 'left0':'left63'])\n",
        "    dfset_right.append(df.loc[start:end-1, 'right0':'right63'])\n",
        "\n",
        "bci_left = []\n",
        "for df in dfset_left:\n",
        "    bci_left.append(df.values.T)\n",
        "bci_left = np.array(bci_left)\n",
        "np.save('bci_imagery_left.npy', bci_left)\n",
        "\n",
        "bci_right = []\n",
        "for df in dfset_right:\n",
        "    bci_right.append(df.values.T)\n",
        "bci_right = np.array(bci_right)\n",
        "np.save('bci_imagery_right.npy', bci_right)\n",
        "\n",
        "# print(bci_left.shape, bci_right.shape) # (99, 64, 3584) (99, 64, 3584)"
      ],
      "execution_count": 3,
      "outputs": [
        {
          "output_type": "stream",
          "text": [
            "(64, 358400) (358400,)\n",
            "(99, 64, 3584) (99, 64, 3584)\n"
          ],
          "name": "stdout"
        }
      ]
    },
    {
      "cell_type": "code",
      "metadata": {
        "id": "ZG1PD_40ghmc",
        "colab_type": "code",
        "colab": {}
      },
      "source": [
        ""
      ],
      "execution_count": 3,
      "outputs": []
    },
    {
      "cell_type": "code",
      "metadata": {
        "id": "QQ6-JH-efxeN",
        "colab_type": "code",
        "colab": {
          "base_uri": "https://localhost:8080/",
          "height": 34
        },
        "outputId": "6fd85ae9-c050-4409-b5c4-5b76bf574c98"
      },
      "source": [
        "type(left)"
      ],
      "execution_count": 4,
      "outputs": [
        {
          "output_type": "execute_result",
          "data": {
            "text/plain": [
              "numpy.ndarray"
            ]
          },
          "metadata": {
            "tags": []
          },
          "execution_count": 4
        }
      ]
    }
  ]
}